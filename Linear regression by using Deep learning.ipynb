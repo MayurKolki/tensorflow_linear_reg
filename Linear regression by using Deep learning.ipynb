{
 "cells": [
  {
   "cell_type": "code",
   "execution_count": 3,
   "id": "4f5713f3",
   "metadata": {},
   "outputs": [
    {
     "name": "stdout",
     "output_type": "stream",
     "text": [
      "Collecting pandas\n",
      "  Downloading pandas-1.2.4-cp37-cp37m-win_amd64.whl (9.1 MB)\n",
      "Requirement already satisfied: python-dateutil>=2.7.3 in c:\\users\\hp\\anaconda3\\envs\\tensorflow_env\\lib\\site-packages (from pandas) (2.8.1)\n",
      "Requirement already satisfied: numpy>=1.16.5 in c:\\users\\hp\\anaconda3\\envs\\tensorflow_env\\lib\\site-packages (from pandas) (1.19.2)\n",
      "Collecting pytz>=2017.3\n",
      "  Downloading pytz-2021.1-py2.py3-none-any.whl (510 kB)\n",
      "Requirement already satisfied: six>=1.5 in c:\\users\\hp\\anaconda3\\envs\\tensorflow_env\\lib\\site-packages (from python-dateutil>=2.7.3->pandas) (1.15.0)\n",
      "Installing collected packages: pytz, pandas\n",
      "Successfully installed pandas-1.2.4 pytz-2021.1\n",
      "Note: you may need to restart the kernel to use updated packages.\n"
     ]
    }
   ],
   "source": [
    "pip install pandas"
   ]
  },
  {
   "cell_type": "code",
   "execution_count": 1,
   "id": "efeea9b2",
   "metadata": {},
   "outputs": [],
   "source": [
    "import pandas as pd\n",
    "import numpy as np\n"
   ]
  },
  {
   "cell_type": "code",
   "execution_count": 3,
   "id": "71875aaa",
   "metadata": {},
   "outputs": [
    {
     "name": "stdout",
     "output_type": "stream",
     "text": [
      "Collecting scikit-learnNote: you may need to restart the kernel to use updated packages.\n",
      "\n",
      "  Downloading scikit_learn-0.24.1-cp37-cp37m-win_amd64.whl (6.8 MB)\n",
      "Collecting joblib>=0.11\n",
      "  Downloading joblib-1.0.1-py3-none-any.whl (303 kB)\n",
      "Collecting threadpoolctl>=2.0.0\n",
      "  Downloading threadpoolctl-2.1.0-py3-none-any.whl (12 kB)\n",
      "Requirement already satisfied: scipy>=0.19.1 in c:\\users\\hp\\anaconda3\\envs\\tensorflow_env\\lib\\site-packages (from scikit-learn) (1.6.2)\n",
      "Requirement already satisfied: numpy>=1.13.3 in c:\\users\\hp\\anaconda3\\envs\\tensorflow_env\\lib\\site-packages (from scikit-learn) (1.19.2)\n",
      "Installing collected packages: threadpoolctl, joblib, scikit-learn\n",
      "Successfully installed joblib-1.0.1 scikit-learn-0.24.1 threadpoolctl-2.1.0\n"
     ]
    }
   ],
   "source": [
    "pip install -U scikit-learn"
   ]
  },
  {
   "cell_type": "code",
   "execution_count": 6,
   "id": "11306958",
   "metadata": {},
   "outputs": [],
   "source": [
    "from sklearn.model_selection import train_test_split"
   ]
  },
  {
   "cell_type": "code",
   "execution_count": 7,
   "id": "29073cee",
   "metadata": {},
   "outputs": [],
   "source": [
    "from sklearn import preprocessing"
   ]
  },
  {
   "cell_type": "code",
   "execution_count": 47,
   "id": "3367a083",
   "metadata": {},
   "outputs": [],
   "source": [
    "#DL - Libraray\n",
    "import tensorflow as tf\n",
    "import keras\n",
    "from keras.models import Sequential\n",
    "from keras.layers import Dense"
   ]
  },
  {
   "cell_type": "code",
   "execution_count": 50,
   "id": "e2268798",
   "metadata": {},
   "outputs": [
    {
     "data": {
      "text/plain": [
       "['_TF_MODULE_IGNORED_PROPERTIES',\n",
       " '__call__',\n",
       " '__class__',\n",
       " '__delattr__',\n",
       " '__dict__',\n",
       " '__dir__',\n",
       " '__doc__',\n",
       " '__eq__',\n",
       " '__format__',\n",
       " '__ge__',\n",
       " '__getattribute__',\n",
       " '__getstate__',\n",
       " '__gt__',\n",
       " '__hash__',\n",
       " '__init__',\n",
       " '__init_subclass__',\n",
       " '__le__',\n",
       " '__lt__',\n",
       " '__module__',\n",
       " '__ne__',\n",
       " '__new__',\n",
       " '__reduce__',\n",
       " '__reduce_ex__',\n",
       " '__repr__',\n",
       " '__setattr__',\n",
       " '__setstate__',\n",
       " '__sizeof__',\n",
       " '__str__',\n",
       " '__subclasshook__',\n",
       " '__weakref__',\n",
       " '_add_trackable',\n",
       " '_add_variable_with_custom_getter',\n",
       " '_autographed_call',\n",
       " '_call_accepts_kwargs',\n",
       " '_call_arg_was_passed',\n",
       " '_call_fn_arg_defaults',\n",
       " '_call_fn_arg_positions',\n",
       " '_call_fn_args',\n",
       " '_call_full_argspec',\n",
       " '_cast_single_input',\n",
       " '_checkpoint_dependencies',\n",
       " '_clear_losses',\n",
       " '_compute_dtype',\n",
       " '_dedup_weights',\n",
       " '_deferred_dependencies',\n",
       " '_dtype',\n",
       " '_eager_losses',\n",
       " '_flatten',\n",
       " '_flatten_layers',\n",
       " '_functional_construction_call',\n",
       " '_gather_children_attribute',\n",
       " '_gather_saveables_for_checkpoint',\n",
       " '_get_call_arg_value',\n",
       " '_get_existing_metric',\n",
       " '_get_input_masks',\n",
       " '_get_node_attribute_at_index',\n",
       " '_get_save_spec',\n",
       " '_get_trainable_state',\n",
       " '_handle_activity_regularization',\n",
       " '_handle_deferred_dependencies',\n",
       " '_handle_weight_regularization',\n",
       " '_infer_output_signature',\n",
       " '_init_call_fn_args',\n",
       " '_init_set_name',\n",
       " '_is_layer',\n",
       " '_keras_api_names',\n",
       " '_keras_api_names_v1',\n",
       " '_keras_tensor_symbolic_call',\n",
       " '_list_extra_dependencies_for_serialization',\n",
       " '_list_functions_for_serialization',\n",
       " '_lookup_dependency',\n",
       " '_map_resources',\n",
       " '_maybe_build',\n",
       " '_maybe_cast_inputs',\n",
       " '_maybe_create_attribute',\n",
       " '_maybe_initialize_trackable',\n",
       " '_must_restore_from_config',\n",
       " '_name_based_attribute_restore',\n",
       " '_name_based_restores',\n",
       " '_name_scope',\n",
       " '_no_dependency',\n",
       " '_obj_reference_counts',\n",
       " '_object_identifier',\n",
       " '_preload_simple_restoration',\n",
       " '_restore_from_checkpoint_position',\n",
       " '_set_call_arg_value',\n",
       " '_set_connectivity_metadata',\n",
       " '_set_dtype_policy',\n",
       " '_set_mask_keras_history_checked',\n",
       " '_set_mask_metadata',\n",
       " '_set_save_spec',\n",
       " '_set_trainable_state',\n",
       " '_set_training_mode',\n",
       " '_setattr_tracking',\n",
       " '_should_cast_single_input',\n",
       " '_single_restoration_from_checkpoint_position',\n",
       " '_split_out_first_arg',\n",
       " '_symbolic_call',\n",
       " '_tf_api_names',\n",
       " '_tf_api_names_v1',\n",
       " '_track_trackable',\n",
       " '_trackable_saved_model_saver',\n",
       " '_tracking_metadata',\n",
       " '_unconditional_checkpoint_dependencies',\n",
       " '_unconditional_dependency_names',\n",
       " '_update_uid',\n",
       " '_warn_about_input_casting',\n",
       " 'activity_regularizer',\n",
       " 'add_loss',\n",
       " 'add_metric',\n",
       " 'add_update',\n",
       " 'add_variable',\n",
       " 'add_weight',\n",
       " 'apply',\n",
       " 'build',\n",
       " 'call',\n",
       " 'compute_mask',\n",
       " 'compute_output_shape',\n",
       " 'compute_output_signature',\n",
       " 'count_params',\n",
       " 'dtype',\n",
       " 'dynamic',\n",
       " 'from_config',\n",
       " 'get_config',\n",
       " 'get_input_at',\n",
       " 'get_input_mask_at',\n",
       " 'get_input_shape_at',\n",
       " 'get_losses_for',\n",
       " 'get_output_at',\n",
       " 'get_output_mask_at',\n",
       " 'get_output_shape_at',\n",
       " 'get_updates_for',\n",
       " 'get_weights',\n",
       " 'inbound_nodes',\n",
       " 'input',\n",
       " 'input_mask',\n",
       " 'input_shape',\n",
       " 'input_spec',\n",
       " 'losses',\n",
       " 'metrics',\n",
       " 'name',\n",
       " 'name_scope',\n",
       " 'non_trainable_variables',\n",
       " 'non_trainable_weights',\n",
       " 'outbound_nodes',\n",
       " 'output',\n",
       " 'output_mask',\n",
       " 'output_shape',\n",
       " 'set_weights',\n",
       " 'stateful',\n",
       " 'submodules',\n",
       " 'supports_masking',\n",
       " 'trainable',\n",
       " 'trainable_variables',\n",
       " 'trainable_weights',\n",
       " 'updates',\n",
       " 'variables',\n",
       " 'weights',\n",
       " 'with_name_scope']"
      ]
     },
     "execution_count": 50,
     "metadata": {},
     "output_type": "execute_result"
    }
   ],
   "source": [
    "dir(Dense)"
   ]
  },
  {
   "cell_type": "code",
   "execution_count": 11,
   "id": "05f340d2",
   "metadata": {},
   "outputs": [],
   "source": [
    "# import the datasets \n",
    "path = 'D:/imarticus/Pythonlearn/car Price prediction END to End/car data.csv'"
   ]
  },
  {
   "cell_type": "code",
   "execution_count": 36,
   "id": "cf5c9a16",
   "metadata": {},
   "outputs": [],
   "source": [
    "cars = pd.read_csv(path)"
   ]
  },
  {
   "cell_type": "code",
   "execution_count": 37,
   "id": "c61bd1e4",
   "metadata": {},
   "outputs": [],
   "source": [
    "cars = cars.drop('Car_Name' , axis=1)"
   ]
  },
  {
   "cell_type": "code",
   "execution_count": 17,
   "id": "a374d4ff",
   "metadata": {},
   "outputs": [
    {
     "data": {
      "text/plain": [
       "Year             0\n",
       "Selling_Price    0\n",
       "Present_Price    0\n",
       "Kms_Driven       0\n",
       "Fuel_Type        0\n",
       "Seller_Type      0\n",
       "Transmission     0\n",
       "Owner            0\n",
       "dtype: int64"
      ]
     },
     "execution_count": 17,
     "metadata": {},
     "output_type": "execute_result"
    }
   ],
   "source": [
    "cars.isnull().sum()"
   ]
  },
  {
   "cell_type": "code",
   "execution_count": 18,
   "id": "7fd8845b",
   "metadata": {},
   "outputs": [],
   "source": [
    "cars_tr = cars.copy()\n",
    "minmax = preprocessing.MinMaxScaler()"
   ]
  },
  {
   "cell_type": "code",
   "execution_count": 29,
   "id": "0ceafe44",
   "metadata": {},
   "outputs": [],
   "source": [
    "cars_tr.loc[:,cols] = minmax.fit_transform(cars.loc[:,cols])"
   ]
  },
  {
   "cell_type": "code",
   "execution_count": 30,
   "id": "bdfc9449",
   "metadata": {},
   "outputs": [
    {
     "data": {
      "text/html": [
       "<div>\n",
       "<style scoped>\n",
       "    .dataframe tbody tr th:only-of-type {\n",
       "        vertical-align: middle;\n",
       "    }\n",
       "\n",
       "    .dataframe tbody tr th {\n",
       "        vertical-align: top;\n",
       "    }\n",
       "\n",
       "    .dataframe thead th {\n",
       "        text-align: right;\n",
       "    }\n",
       "</style>\n",
       "<table border=\"1\" class=\"dataframe\">\n",
       "  <thead>\n",
       "    <tr style=\"text-align: right;\">\n",
       "      <th></th>\n",
       "      <th>Year</th>\n",
       "      <th>Selling_Price</th>\n",
       "      <th>Present_Price</th>\n",
       "      <th>Kms_Driven</th>\n",
       "      <th>Fuel_Type</th>\n",
       "      <th>Seller_Type</th>\n",
       "      <th>Transmission</th>\n",
       "      <th>Owner</th>\n",
       "    </tr>\n",
       "  </thead>\n",
       "  <tbody>\n",
       "    <tr>\n",
       "      <th>0</th>\n",
       "      <td>0.733333</td>\n",
       "      <td>0.093123</td>\n",
       "      <td>0.057109</td>\n",
       "      <td>0.053053</td>\n",
       "      <td>Petrol</td>\n",
       "      <td>Dealer</td>\n",
       "      <td>Manual</td>\n",
       "      <td>0</td>\n",
       "    </tr>\n",
       "    <tr>\n",
       "      <th>1</th>\n",
       "      <td>0.666667</td>\n",
       "      <td>0.133238</td>\n",
       "      <td>0.099913</td>\n",
       "      <td>0.085085</td>\n",
       "      <td>Diesel</td>\n",
       "      <td>Dealer</td>\n",
       "      <td>Manual</td>\n",
       "      <td>0</td>\n",
       "    </tr>\n",
       "    <tr>\n",
       "      <th>2</th>\n",
       "      <td>0.933333</td>\n",
       "      <td>0.204871</td>\n",
       "      <td>0.103273</td>\n",
       "      <td>0.012813</td>\n",
       "      <td>Petrol</td>\n",
       "      <td>Dealer</td>\n",
       "      <td>Manual</td>\n",
       "      <td>0</td>\n",
       "    </tr>\n",
       "    <tr>\n",
       "      <th>3</th>\n",
       "      <td>0.533333</td>\n",
       "      <td>0.078797</td>\n",
       "      <td>0.041504</td>\n",
       "      <td>0.009409</td>\n",
       "      <td>Petrol</td>\n",
       "      <td>Dealer</td>\n",
       "      <td>Manual</td>\n",
       "      <td>0</td>\n",
       "    </tr>\n",
       "    <tr>\n",
       "      <th>4</th>\n",
       "      <td>0.733333</td>\n",
       "      <td>0.128940</td>\n",
       "      <td>0.070980</td>\n",
       "      <td>0.083984</td>\n",
       "      <td>Diesel</td>\n",
       "      <td>Dealer</td>\n",
       "      <td>Manual</td>\n",
       "      <td>0</td>\n",
       "    </tr>\n",
       "    <tr>\n",
       "      <th>...</th>\n",
       "      <td>...</td>\n",
       "      <td>...</td>\n",
       "      <td>...</td>\n",
       "      <td>...</td>\n",
       "      <td>...</td>\n",
       "      <td>...</td>\n",
       "      <td>...</td>\n",
       "      <td>...</td>\n",
       "    </tr>\n",
       "    <tr>\n",
       "      <th>296</th>\n",
       "      <td>0.866667</td>\n",
       "      <td>0.269341</td>\n",
       "      <td>0.122237</td>\n",
       "      <td>0.067043</td>\n",
       "      <td>Diesel</td>\n",
       "      <td>Dealer</td>\n",
       "      <td>Manual</td>\n",
       "      <td>0</td>\n",
       "    </tr>\n",
       "    <tr>\n",
       "      <th>297</th>\n",
       "      <td>0.800000</td>\n",
       "      <td>0.111748</td>\n",
       "      <td>0.060468</td>\n",
       "      <td>0.119119</td>\n",
       "      <td>Petrol</td>\n",
       "      <td>Dealer</td>\n",
       "      <td>Manual</td>\n",
       "      <td>0</td>\n",
       "    </tr>\n",
       "    <tr>\n",
       "      <th>298</th>\n",
       "      <td>0.400000</td>\n",
       "      <td>0.093123</td>\n",
       "      <td>0.115735</td>\n",
       "      <td>0.175043</td>\n",
       "      <td>Petrol</td>\n",
       "      <td>Dealer</td>\n",
       "      <td>Manual</td>\n",
       "      <td>0</td>\n",
       "    </tr>\n",
       "    <tr>\n",
       "      <th>299</th>\n",
       "      <td>0.933333</td>\n",
       "      <td>0.326648</td>\n",
       "      <td>0.131990</td>\n",
       "      <td>0.017017</td>\n",
       "      <td>Diesel</td>\n",
       "      <td>Dealer</td>\n",
       "      <td>Manual</td>\n",
       "      <td>0</td>\n",
       "    </tr>\n",
       "    <tr>\n",
       "      <th>300</th>\n",
       "      <td>0.866667</td>\n",
       "      <td>0.148997</td>\n",
       "      <td>0.060468</td>\n",
       "      <td>0.009938</td>\n",
       "      <td>Petrol</td>\n",
       "      <td>Dealer</td>\n",
       "      <td>Manual</td>\n",
       "      <td>0</td>\n",
       "    </tr>\n",
       "  </tbody>\n",
       "</table>\n",
       "<p>301 rows × 8 columns</p>\n",
       "</div>"
      ],
      "text/plain": [
       "         Year  Selling_Price  Present_Price  Kms_Driven Fuel_Type Seller_Type  \\\n",
       "0    0.733333       0.093123       0.057109    0.053053    Petrol      Dealer   \n",
       "1    0.666667       0.133238       0.099913    0.085085    Diesel      Dealer   \n",
       "2    0.933333       0.204871       0.103273    0.012813    Petrol      Dealer   \n",
       "3    0.533333       0.078797       0.041504    0.009409    Petrol      Dealer   \n",
       "4    0.733333       0.128940       0.070980    0.083984    Diesel      Dealer   \n",
       "..        ...            ...            ...         ...       ...         ...   \n",
       "296  0.866667       0.269341       0.122237    0.067043    Diesel      Dealer   \n",
       "297  0.800000       0.111748       0.060468    0.119119    Petrol      Dealer   \n",
       "298  0.400000       0.093123       0.115735    0.175043    Petrol      Dealer   \n",
       "299  0.933333       0.326648       0.131990    0.017017    Diesel      Dealer   \n",
       "300  0.866667       0.148997       0.060468    0.009938    Petrol      Dealer   \n",
       "\n",
       "    Transmission  Owner  \n",
       "0         Manual      0  \n",
       "1         Manual      0  \n",
       "2         Manual      0  \n",
       "3         Manual      0  \n",
       "4         Manual      0  \n",
       "..           ...    ...  \n",
       "296       Manual      0  \n",
       "297       Manual      0  \n",
       "298       Manual      0  \n",
       "299       Manual      0  \n",
       "300       Manual      0  \n",
       "\n",
       "[301 rows x 8 columns]"
      ]
     },
     "execution_count": 30,
     "metadata": {},
     "output_type": "execute_result"
    }
   ],
   "source": [
    "cars_tr"
   ]
  },
  {
   "cell_type": "code",
   "execution_count": 39,
   "id": "ea311dff",
   "metadata": {},
   "outputs": [],
   "source": [
    "cars_tr['Selling_Price'] = cars['Selling_Price']"
   ]
  },
  {
   "cell_type": "code",
   "execution_count": 27,
   "id": "7aac1127",
   "metadata": {},
   "outputs": [],
   "source": [
    "cols = ['Year', 'Selling_Price', 'Present_Price', 'Kms_Driven']"
   ]
  },
  {
   "cell_type": "code",
   "execution_count": 42,
   "id": "302a0455",
   "metadata": {},
   "outputs": [],
   "source": [
    "#Building the model\n",
    "\n",
    "trainx,testx,trainy,testy = train_test_split(cars_tr.drop('Selling_Price',axis=1),cars_tr['Selling_Price'] , test_size=0.25)"
   ]
  },
  {
   "cell_type": "code",
   "execution_count": 43,
   "id": "49b8f982",
   "metadata": {},
   "outputs": [
    {
     "name": "stdout",
     "output_type": "stream",
     "text": [
      "(225, 7) (76, 7)\n"
     ]
    }
   ],
   "source": [
    "print(trainx.shape,testx.shape)"
   ]
  },
  {
   "cell_type": "code",
   "execution_count": 53,
   "id": "3a826638",
   "metadata": {},
   "outputs": [],
   "source": [
    "#build the netwrok\n",
    "#parameter 1 --> Nodes means  Unit (Numbers of nodes in layer)\n",
    "#parametet 2 --> Shape=its a input shape\n",
    "#parameter 3 --> learning Rate\n",
    "def buildModel(units,shape,lr=0.001):\n",
    "    # 1) Build the linear regression\n",
    "    model = keras.Sequential([Dense(units,activation='relu',input_shape=[shape]),#Hidden layer 1(input)\n",
    "                              Dense(units,activation='relu'),#hidden layer 2\n",
    "                              Dense(1)])\n",
    "    \n",
    "    #2) set the learning rate\n",
    "    optimizer = tf.keras.optimizers.RMSprop(lr)\n",
    "    \n",
    "    #3) complie the model\n",
    "    \n",
    "    model.compile(loss='mse' , optimizer = optimizer , metrics = ['mae' , 'mse'])\n",
    "    \n",
    "    #return the model\n",
    "    \n",
    "    return(model)"
   ]
  },
  {
   "cell_type": "code",
   "execution_count": 64,
   "id": "044089f4",
   "metadata": {},
   "outputs": [],
   "source": [
    "# Execute the function for out put\n",
    "shape = trainx.shape[1]\n",
    "units = pow(2,5)"
   ]
  },
  {
   "cell_type": "code",
   "execution_count": 65,
   "id": "2613394f",
   "metadata": {},
   "outputs": [],
   "source": [
    "m1 = buildModel(units=units , shape=shape)"
   ]
  },
  {
   "cell_type": "code",
   "execution_count": 66,
   "id": "a424d36c",
   "metadata": {},
   "outputs": [
    {
     "name": "stdout",
     "output_type": "stream",
     "text": [
      "Model: \"sequential_2\"\n",
      "_________________________________________________________________\n",
      "Layer (type)                 Output Shape              Param #   \n",
      "=================================================================\n",
      "dense_10 (Dense)             (None, 32)                160       \n",
      "_________________________________________________________________\n",
      "dense_11 (Dense)             (None, 32)                1056      \n",
      "_________________________________________________________________\n",
      "dense_12 (Dense)             (None, 1)                 33        \n",
      "=================================================================\n",
      "Total params: 1,249\n",
      "Trainable params: 1,249\n",
      "Non-trainable params: 0\n",
      "_________________________________________________________________\n"
     ]
    }
   ],
   "source": [
    "# Summarize the model\n",
    "m1.summary()"
   ]
  },
  {
   "cell_type": "code",
   "execution_count": 84,
   "id": "cf643f29",
   "metadata": {},
   "outputs": [],
   "source": [
    "EPOCHS = 2000\n",
    "\n",
    "# Print the dot after 50th iteration this is to show the progress of model to get train\n",
    "class printDot(keras.callbacks.Callback):\n",
    "    def on_epoch_end(self , epoch , logs):\n",
    "        if epoch % 50 == 0:\n",
    "            print(\".\" , end = \" \")"
   ]
  },
  {
   "cell_type": "code",
   "execution_count": 62,
   "id": "28665126",
   "metadata": {},
   "outputs": [],
   "source": [
    "trainx = trainx.drop(['Fuel_Type' , 'Seller_Type' , 'Transmission'] , axis = 1)"
   ]
  },
  {
   "cell_type": "code",
   "execution_count": null,
   "id": "72c23b93",
   "metadata": {},
   "outputs": [],
   "source": [
    ", callbacks = [printDot()]"
   ]
  },
  {
   "cell_type": "code",
   "execution_count": 86,
   "id": "7a0277d3",
   "metadata": {},
   "outputs": [
    {
     "name": "stdout",
     "output_type": "stream",
     "text": [
      ". . . . . . . . . . . . . . . . . . . . . . . . . . . . . . . . . . . . . . . . "
     ]
    }
   ],
   "source": [
    "# train the Model\n",
    "errors = m1.fit(trainx , trainy , epochs = EPOCHS , validation_split = 0.2 , verbose = 0, callbacks = [printDot()])"
   ]
  },
  {
   "cell_type": "code",
   "execution_count": 87,
   "id": "4cefb965",
   "metadata": {},
   "outputs": [
    {
     "name": "stdout",
     "output_type": "stream",
     "text": [
      "<tensorflow.python.keras.callbacks.History object at 0x000001EC8F0EEBC8>\n"
     ]
    }
   ],
   "source": [
    "print(errors)"
   ]
  },
  {
   "cell_type": "code",
   "execution_count": 88,
   "id": "7a228192",
   "metadata": {},
   "outputs": [],
   "source": [
    "arrhit = errors.history"
   ]
  },
  {
   "cell_type": "code",
   "execution_count": 89,
   "id": "dd305452",
   "metadata": {},
   "outputs": [],
   "source": [
    "dd = pd.DataFrame(arrhit)"
   ]
  },
  {
   "cell_type": "code",
   "execution_count": 90,
   "id": "4bdc9297",
   "metadata": {},
   "outputs": [
    {
     "data": {
      "text/plain": [
       "Index(['loss', 'mae', 'mse', 'val_loss', 'val_mae', 'val_mse'], dtype='object')"
      ]
     },
     "execution_count": 90,
     "metadata": {},
     "output_type": "execute_result"
    }
   ],
   "source": [
    "dd.columns"
   ]
  },
  {
   "cell_type": "code",
   "execution_count": 91,
   "id": "8bee468d",
   "metadata": {},
   "outputs": [
    {
     "data": {
      "text/html": [
       "<div>\n",
       "<style scoped>\n",
       "    .dataframe tbody tr th:only-of-type {\n",
       "        vertical-align: middle;\n",
       "    }\n",
       "\n",
       "    .dataframe tbody tr th {\n",
       "        vertical-align: top;\n",
       "    }\n",
       "\n",
       "    .dataframe thead th {\n",
       "        text-align: right;\n",
       "    }\n",
       "</style>\n",
       "<table border=\"1\" class=\"dataframe\">\n",
       "  <thead>\n",
       "    <tr style=\"text-align: right;\">\n",
       "      <th></th>\n",
       "      <th>loss</th>\n",
       "      <th>mae</th>\n",
       "      <th>mse</th>\n",
       "      <th>val_loss</th>\n",
       "      <th>val_mae</th>\n",
       "      <th>val_mse</th>\n",
       "    </tr>\n",
       "  </thead>\n",
       "  <tbody>\n",
       "    <tr>\n",
       "      <th>0</th>\n",
       "      <td>49.430664</td>\n",
       "      <td>4.577034</td>\n",
       "      <td>49.430664</td>\n",
       "      <td>39.593262</td>\n",
       "      <td>4.145472</td>\n",
       "      <td>39.593262</td>\n",
       "    </tr>\n",
       "    <tr>\n",
       "      <th>1</th>\n",
       "      <td>47.935970</td>\n",
       "      <td>4.442642</td>\n",
       "      <td>47.935974</td>\n",
       "      <td>38.346786</td>\n",
       "      <td>4.026787</td>\n",
       "      <td>38.346786</td>\n",
       "    </tr>\n",
       "    <tr>\n",
       "      <th>2</th>\n",
       "      <td>46.468811</td>\n",
       "      <td>4.336078</td>\n",
       "      <td>46.468811</td>\n",
       "      <td>36.912594</td>\n",
       "      <td>3.909811</td>\n",
       "      <td>36.912594</td>\n",
       "    </tr>\n",
       "    <tr>\n",
       "      <th>3</th>\n",
       "      <td>44.912956</td>\n",
       "      <td>4.231719</td>\n",
       "      <td>44.912956</td>\n",
       "      <td>35.570900</td>\n",
       "      <td>3.802867</td>\n",
       "      <td>35.570900</td>\n",
       "    </tr>\n",
       "    <tr>\n",
       "      <th>4</th>\n",
       "      <td>43.350590</td>\n",
       "      <td>4.133373</td>\n",
       "      <td>43.350590</td>\n",
       "      <td>34.059845</td>\n",
       "      <td>3.678440</td>\n",
       "      <td>34.059845</td>\n",
       "    </tr>\n",
       "    <tr>\n",
       "      <th>...</th>\n",
       "      <td>...</td>\n",
       "      <td>...</td>\n",
       "      <td>...</td>\n",
       "      <td>...</td>\n",
       "      <td>...</td>\n",
       "      <td>...</td>\n",
       "    </tr>\n",
       "    <tr>\n",
       "      <th>1995</th>\n",
       "      <td>0.747513</td>\n",
       "      <td>0.564821</td>\n",
       "      <td>0.747513</td>\n",
       "      <td>0.708569</td>\n",
       "      <td>0.484252</td>\n",
       "      <td>0.708569</td>\n",
       "    </tr>\n",
       "    <tr>\n",
       "      <th>1996</th>\n",
       "      <td>0.717619</td>\n",
       "      <td>0.532399</td>\n",
       "      <td>0.717619</td>\n",
       "      <td>0.749830</td>\n",
       "      <td>0.456725</td>\n",
       "      <td>0.749830</td>\n",
       "    </tr>\n",
       "    <tr>\n",
       "      <th>1997</th>\n",
       "      <td>0.682641</td>\n",
       "      <td>0.524768</td>\n",
       "      <td>0.682641</td>\n",
       "      <td>0.706916</td>\n",
       "      <td>0.456315</td>\n",
       "      <td>0.706916</td>\n",
       "    </tr>\n",
       "    <tr>\n",
       "      <th>1998</th>\n",
       "      <td>0.792840</td>\n",
       "      <td>0.582169</td>\n",
       "      <td>0.792840</td>\n",
       "      <td>0.721947</td>\n",
       "      <td>0.587304</td>\n",
       "      <td>0.721947</td>\n",
       "    </tr>\n",
       "    <tr>\n",
       "      <th>1999</th>\n",
       "      <td>0.729864</td>\n",
       "      <td>0.560857</td>\n",
       "      <td>0.729864</td>\n",
       "      <td>0.791420</td>\n",
       "      <td>0.478572</td>\n",
       "      <td>0.791420</td>\n",
       "    </tr>\n",
       "  </tbody>\n",
       "</table>\n",
       "<p>2000 rows × 6 columns</p>\n",
       "</div>"
      ],
      "text/plain": [
       "           loss       mae        mse   val_loss   val_mae    val_mse\n",
       "0     49.430664  4.577034  49.430664  39.593262  4.145472  39.593262\n",
       "1     47.935970  4.442642  47.935974  38.346786  4.026787  38.346786\n",
       "2     46.468811  4.336078  46.468811  36.912594  3.909811  36.912594\n",
       "3     44.912956  4.231719  44.912956  35.570900  3.802867  35.570900\n",
       "4     43.350590  4.133373  43.350590  34.059845  3.678440  34.059845\n",
       "...         ...       ...        ...        ...       ...        ...\n",
       "1995   0.747513  0.564821   0.747513   0.708569  0.484252   0.708569\n",
       "1996   0.717619  0.532399   0.717619   0.749830  0.456725   0.749830\n",
       "1997   0.682641  0.524768   0.682641   0.706916  0.456315   0.706916\n",
       "1998   0.792840  0.582169   0.792840   0.721947  0.587304   0.721947\n",
       "1999   0.729864  0.560857   0.729864   0.791420  0.478572   0.791420\n",
       "\n",
       "[2000 rows x 6 columns]"
      ]
     },
     "execution_count": 91,
     "metadata": {},
     "output_type": "execute_result"
    }
   ],
   "source": [
    "dd"
   ]
  },
  {
   "cell_type": "code",
   "execution_count": 92,
   "id": "4cb8c00f",
   "metadata": {},
   "outputs": [],
   "source": [
    "dd['epoch'] = errors.epoch"
   ]
  },
  {
   "cell_type": "code",
   "execution_count": 93,
   "id": "7bff4cf1",
   "metadata": {},
   "outputs": [
    {
     "data": {
      "text/html": [
       "<div>\n",
       "<style scoped>\n",
       "    .dataframe tbody tr th:only-of-type {\n",
       "        vertical-align: middle;\n",
       "    }\n",
       "\n",
       "    .dataframe tbody tr th {\n",
       "        vertical-align: top;\n",
       "    }\n",
       "\n",
       "    .dataframe thead th {\n",
       "        text-align: right;\n",
       "    }\n",
       "</style>\n",
       "<table border=\"1\" class=\"dataframe\">\n",
       "  <thead>\n",
       "    <tr style=\"text-align: right;\">\n",
       "      <th></th>\n",
       "      <th>loss</th>\n",
       "      <th>mae</th>\n",
       "      <th>mse</th>\n",
       "      <th>val_loss</th>\n",
       "      <th>val_mae</th>\n",
       "      <th>val_mse</th>\n",
       "      <th>epoch</th>\n",
       "    </tr>\n",
       "  </thead>\n",
       "  <tbody>\n",
       "    <tr>\n",
       "      <th>0</th>\n",
       "      <td>49.430664</td>\n",
       "      <td>4.577034</td>\n",
       "      <td>49.430664</td>\n",
       "      <td>39.593262</td>\n",
       "      <td>4.145472</td>\n",
       "      <td>39.593262</td>\n",
       "      <td>0</td>\n",
       "    </tr>\n",
       "    <tr>\n",
       "      <th>1</th>\n",
       "      <td>47.935970</td>\n",
       "      <td>4.442642</td>\n",
       "      <td>47.935974</td>\n",
       "      <td>38.346786</td>\n",
       "      <td>4.026787</td>\n",
       "      <td>38.346786</td>\n",
       "      <td>1</td>\n",
       "    </tr>\n",
       "    <tr>\n",
       "      <th>2</th>\n",
       "      <td>46.468811</td>\n",
       "      <td>4.336078</td>\n",
       "      <td>46.468811</td>\n",
       "      <td>36.912594</td>\n",
       "      <td>3.909811</td>\n",
       "      <td>36.912594</td>\n",
       "      <td>2</td>\n",
       "    </tr>\n",
       "    <tr>\n",
       "      <th>3</th>\n",
       "      <td>44.912956</td>\n",
       "      <td>4.231719</td>\n",
       "      <td>44.912956</td>\n",
       "      <td>35.570900</td>\n",
       "      <td>3.802867</td>\n",
       "      <td>35.570900</td>\n",
       "      <td>3</td>\n",
       "    </tr>\n",
       "    <tr>\n",
       "      <th>4</th>\n",
       "      <td>43.350590</td>\n",
       "      <td>4.133373</td>\n",
       "      <td>43.350590</td>\n",
       "      <td>34.059845</td>\n",
       "      <td>3.678440</td>\n",
       "      <td>34.059845</td>\n",
       "      <td>4</td>\n",
       "    </tr>\n",
       "    <tr>\n",
       "      <th>...</th>\n",
       "      <td>...</td>\n",
       "      <td>...</td>\n",
       "      <td>...</td>\n",
       "      <td>...</td>\n",
       "      <td>...</td>\n",
       "      <td>...</td>\n",
       "      <td>...</td>\n",
       "    </tr>\n",
       "    <tr>\n",
       "      <th>1995</th>\n",
       "      <td>0.747513</td>\n",
       "      <td>0.564821</td>\n",
       "      <td>0.747513</td>\n",
       "      <td>0.708569</td>\n",
       "      <td>0.484252</td>\n",
       "      <td>0.708569</td>\n",
       "      <td>1995</td>\n",
       "    </tr>\n",
       "    <tr>\n",
       "      <th>1996</th>\n",
       "      <td>0.717619</td>\n",
       "      <td>0.532399</td>\n",
       "      <td>0.717619</td>\n",
       "      <td>0.749830</td>\n",
       "      <td>0.456725</td>\n",
       "      <td>0.749830</td>\n",
       "      <td>1996</td>\n",
       "    </tr>\n",
       "    <tr>\n",
       "      <th>1997</th>\n",
       "      <td>0.682641</td>\n",
       "      <td>0.524768</td>\n",
       "      <td>0.682641</td>\n",
       "      <td>0.706916</td>\n",
       "      <td>0.456315</td>\n",
       "      <td>0.706916</td>\n",
       "      <td>1997</td>\n",
       "    </tr>\n",
       "    <tr>\n",
       "      <th>1998</th>\n",
       "      <td>0.792840</td>\n",
       "      <td>0.582169</td>\n",
       "      <td>0.792840</td>\n",
       "      <td>0.721947</td>\n",
       "      <td>0.587304</td>\n",
       "      <td>0.721947</td>\n",
       "      <td>1998</td>\n",
       "    </tr>\n",
       "    <tr>\n",
       "      <th>1999</th>\n",
       "      <td>0.729864</td>\n",
       "      <td>0.560857</td>\n",
       "      <td>0.729864</td>\n",
       "      <td>0.791420</td>\n",
       "      <td>0.478572</td>\n",
       "      <td>0.791420</td>\n",
       "      <td>1999</td>\n",
       "    </tr>\n",
       "  </tbody>\n",
       "</table>\n",
       "<p>2000 rows × 7 columns</p>\n",
       "</div>"
      ],
      "text/plain": [
       "           loss       mae        mse   val_loss   val_mae    val_mse  epoch\n",
       "0     49.430664  4.577034  49.430664  39.593262  4.145472  39.593262      0\n",
       "1     47.935970  4.442642  47.935974  38.346786  4.026787  38.346786      1\n",
       "2     46.468811  4.336078  46.468811  36.912594  3.909811  36.912594      2\n",
       "3     44.912956  4.231719  44.912956  35.570900  3.802867  35.570900      3\n",
       "4     43.350590  4.133373  43.350590  34.059845  3.678440  34.059845      4\n",
       "...         ...       ...        ...        ...       ...        ...    ...\n",
       "1995   0.747513  0.564821   0.747513   0.708569  0.484252   0.708569   1995\n",
       "1996   0.717619  0.532399   0.717619   0.749830  0.456725   0.749830   1996\n",
       "1997   0.682641  0.524768   0.682641   0.706916  0.456315   0.706916   1997\n",
       "1998   0.792840  0.582169   0.792840   0.721947  0.587304   0.721947   1998\n",
       "1999   0.729864  0.560857   0.729864   0.791420  0.478572   0.791420   1999\n",
       "\n",
       "[2000 rows x 7 columns]"
      ]
     },
     "execution_count": 93,
     "metadata": {},
     "output_type": "execute_result"
    }
   ],
   "source": [
    "dd"
   ]
  },
  {
   "cell_type": "code",
   "execution_count": 95,
   "id": "8347271a",
   "metadata": {},
   "outputs": [],
   "source": [
    "# pllot the errors for analysis\n",
    "import matplotlib.pyplot as plt\n",
    "import seaborn as sns"
   ]
  },
  {
   "cell_type": "code",
   "execution_count": 107,
   "id": "2fe0c8e8",
   "metadata": {},
   "outputs": [
    {
     "data": {
      "text/plain": [
       "<matplotlib.legend.Legend at 0x1ec925e8fc8>"
      ]
     },
     "execution_count": 107,
     "metadata": {},
     "output_type": "execute_result"
    },
    {
     "data": {
      "image/png": "[encoded data removed]",
      "text/plain": [
       "<Figure size 1008x576 with 2 Axes>"
      ]
     },
     "metadata": {
      "needs_background": "light"
     },
     "output_type": "display_data"
    }
   ],
   "source": [
    "plt.figure(figsize=(14,8))\n",
    "plt.subplot(121)\n",
    "plt.plot(dd.epoch , dd.mae , label='Training Error')\n",
    "plt.plot(dd.epoch, dd.val_mae , label = 'Validation Error')\n",
    "plt.xlabel('epoch')\n",
    "plt.ylabel('Errors')\n",
    "plt.title(\"Mean Absolute Error\")\n",
    "plt.legend()\n",
    "\n",
    "plt.subplot(122)\n",
    "plt.plot(dd.epoch , dd.mse , label='Training Error')\n",
    "plt.plot(dd.epoch, dd.val_mse , label = 'Validation Error')\n",
    "plt.xlabel('epoch')\n",
    "plt.ylabel('Errors')\n",
    "plt.title(\"Mean Squared Error\")\n",
    "plt.legend()"
   ]
  },
  {
   "cell_type": "code",
   "execution_count": 96,
   "id": "7332d0a2",
   "metadata": {},
   "outputs": [],
   "source": [
    "# Now predict the model\n",
    "testx = testx.drop(['Fuel_Type' , 'Seller_Type' , 'Transmission'] , axis = 1)"
   ]
  },
  {
   "cell_type": "code",
   "execution_count": 97,
   "id": "5c4608ef",
   "metadata": {},
   "outputs": [],
   "source": [
    "p1 = m1.predict(testx).flatten()"
   ]
  },
  {
   "cell_type": "code",
   "execution_count": 98,
   "id": "1a0e32b0",
   "metadata": {},
   "outputs": [],
   "source": [
    "# Store the prediction in dataframe\n",
    "res = pd.DataFrame({'Actual':testy , 'Prediction':np.round(p1,1)})"
   ]
  },
  {
   "cell_type": "code",
   "execution_count": 99,
   "id": "85cc69cd",
   "metadata": {},
   "outputs": [],
   "source": [
    "# find fina; mse\n",
    "from sklearn.metrics import mean_squared_error as ms"
   ]
  },
  {
   "cell_type": "code",
   "execution_count": 101,
   "id": "a42fbf67",
   "metadata": {},
   "outputs": [
    {
     "data": {
      "text/plain": [
       "0.5947344178968487"
      ]
     },
     "execution_count": 101,
     "metadata": {},
     "output_type": "execute_result"
    }
   ],
   "source": [
    "mse1 = ms(testy , p1)\n",
    "mse1"
   ]
  },
  {
   "cell_type": "code",
   "execution_count": null,
   "id": "f23933cb",
   "metadata": {},
   "outputs": [],
   "source": []
  },
  {
   "cell_type": "code",
   "execution_count": null,
   "id": "d96227ec",
   "metadata": {},
   "outputs": [],
   "source": []
  }
 ],
 "metadata": {
  "kernelspec": {
   "display_name": "Python 3",
   "language": "python",
   "name": "python3"
  },
  "language_info": {
   "codemirror_mode": {
    "name": "ipython",
    "version": 3
   },
   "file_extension": ".py",
   "mimetype": "text/x-python",
   "name": "python",
   "nbconvert_exporter": "python",
   "pygments_lexer": "ipython3",
   "version": "3.7.10"
  },
  "latex_envs": {
   "LaTeX_envs_menu_present": true,
   "autoclose": false,
   "autocomplete": true,
   "bibliofile": "biblio.bib",
   "cite_by": "apalike",
   "current_citInitial": 1,
   "eqLabelWithNumbers": true,
   "eqNumInitial": 1,
   "hotkeys": {
    "equation": "Ctrl-E",
    "itemize": "Ctrl-I"
   },
   "labels_anchors": false,
   "latex_user_defs": false,
   "report_style_numbering": false,
   "user_envs_cfg": false
  }
 },
 "nbformat": 4,
 "nbformat_minor": 5
}
